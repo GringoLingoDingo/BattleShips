{
 "cells": [
  {
   "cell_type": "markdown",
   "metadata": {},
   "source": [
    "![imagen](./img/hundir-la-flota-juego-de-mesa.jpg)"
   ]
  },
  {
   "cell_type": "markdown",
   "metadata": {},
   "source": [
    "En esta entrega vas a crear tu propio juego de **Hundir la flota** en Python. \n",
    "[Aquí](http://es.battleship-game.org/) podrás probarlo online."
   ]
  },
  {
   "attachments": {},
   "cell_type": "markdown",
   "metadata": {},
   "source": [
    "### En clase\n",
    "1. Crea la función `crear_tablero(tamaño)`, un tablero por defecto de 10x10 relleno del carácter \"_\" con numpy.\n",
    "2. Crea la función `colocar_barco(barco, tablero)`, que recibirá la lista de casillas de un barco y el tablero donde colocarlo. Prueba primero a posicionar un par de barcos por ejemplo en [(0,1), (1,1)] y [(1,3), (1,4), (1,5), (1,6)]. Los barcos serán Os mayúsculas. Como ves, un barco de dos posiciones de eslora y otro de cuatro.\n",
    "3. Crea la función `disparar(casilla, tablero)`, si el disparo acierta en un barco sustituye la O por una X (tocado), si es agua, sustituye la _ por una A (Agua). Prueba primero a disparar el barco de 2 casillas.\n",
    "4. Crea la función `crear_barco(eslora)`, que deberá crear una lista de casillas de un barco en función a la eslora, de forma aleatoria.\n",
    "\n",
    "### Proyecto individual\n",
    "1. Crea la función `colocar_barcos(tablero)`, que deberá de colocar la lista de barcos generados de forma aleatoria (6 barcos en total (3 barcos de eslora 2, 2 de eslora 3 y 1 eslora 4)) ¡Mucho ojo con barcos que estén superpuestos (no pueden ocupar dos barcos la misma casilla) o barcos que se salgan del tablero!\n",
    "2. Escribe el flujo completo del programa, con la dinámica de turnos y funcionalidades necesarios para jugar contra la máquina (dispara a tu tablero de forma aleatoria). Crea todas las funciones que necesites y aplica todo lo aprendido que te sea útil.\n",
    "3. Encapsula todo en un `main.py` y un `utils.py` para ejecutarlo desde terminal.\n",
    "4. Sube tu proyecto a un repositorio de github y prepara una demo (solo se podrá enseñar desde terminal) para la presentación de tu proyecto."
   ]
  },
  {
   "cell_type": "markdown",
   "metadata": {},
   "source": [
    "## Presentación\n",
    "Cada uno realizará una presentación el **lunes 17 de septiembre**, donde se contarán con **10 minutos máximo**, importante ceñirse al tiempo. Se tendrá que enseñar:\n",
    "1. El git clone del repositorio de github a tu ordenador y explicar las partes más relevantes del código.\n",
    "2. Una demo donde se muestre el correcto funcionamiento del código para jugar, ejecutándose desde terminal.\n",
    "3. Explicación de la lógica de las partes más relevantes del código desarrollado."
   ]
  },
  {
   "cell_type": "code",
   "execution_count": 5,
   "metadata": {},
   "outputs": [],
   "source": [
    "import numpy as np "
   ]
  },
  {
   "cell_type": "code",
   "execution_count": 6,
   "metadata": {},
   "outputs": [],
   "source": [
    "#def create_board(size = (10,10)):\n",
    "\n",
    "    #return np.full(size, '_')\n",
    "\n",
    "#board = create_board()\n",
    "#print(board)"
   ]
  },
  {
   "cell_type": "code",
   "execution_count": 7,
   "metadata": {},
   "outputs": [],
   "source": [
    "def place_pieces(variable):\n",
    "    y = (int(input(\"place ship on which row!\")))\n",
    "    x = (int(input(\"place ship on which column?\")))\n",
    "    \n",
    "    #tile = [(x,y)]\n",
    "    variable[x][y]= \"B\"\n",
    "    return variable\n",
    "   \n",
    "   \n",
    "   # variable[y][x] = \"B\"\n",
    "\n",
    " #colocar_barco(barco, tablero):\n",
    " #for casilla in barco:\n",
    "     #tablero[casilla] = \"O\"\n",
    " # eturn tablero"
   ]
  },
  {
   "cell_type": "code",
   "execution_count": 8,
   "metadata": {},
   "outputs": [],
   "source": [
    "\n",
    "def shoot_square(board):\n",
    "   y = (int(input(\"Fire at which row!\")))\n",
    "   x = (int(input(\"Fire at which column?\")))\n",
    "\n",
    "   if board[y][x] == \"B\":\n",
    "         \n",
    "         board[y][x] = \"X\"\n",
    "         print(board)\n",
    "         # Give point to player\n",
    "         # Create a boolean that checks if it is already a bonus turn, if so, give another point.\n",
    "         # Give bonus turn to player\n",
    "         \n",
    "   else:\n",
    "       board[y][x] = \"O\"\n",
    "       print(board)\n",
    "       # Swap over the turns to the other player\n",
    "       \n",
    "\n",
    "\n",
    "#shoot_square((0,1),)\n",
    "#print(board)\n"
   ]
  },
  {
   "cell_type": "code",
   "execution_count": 9,
   "metadata": {},
   "outputs": [],
   "source": [
    "#class Player():\n",
    "#    \n",
    "#    def __init__(self, score, turncounter):\n",
    "#        self.score = score\n",
    "#        self.turncounter = turncounter"
   ]
  },
  {
   "cell_type": "code",
   "execution_count": 10,
   "metadata": {},
   "outputs": [
    {
     "name": "stdout",
     "output_type": "stream",
     "text": [
      "[[' ' '1' '2' '3' '4' '5' '6' '7' '8' '9' '0']\n",
      " ['1' '_' '_' '_' '_' '_' '_' '_' '_' '_' '_']\n",
      " ['2' '_' '_' '_' '_' '_' '_' '_' '_' '_' '_']\n",
      " ['3' '_' '_' '_' '_' '_' '_' '_' '_' '_' '_']\n",
      " ['4' '_' '_' '_' '_' '_' '_' '_' '_' '_' '_']\n",
      " ['5' '_' '_' '_' '_' '_' '_' '_' '_' '_' '_']\n",
      " ['6' '_' '_' '_' '_' '_' '_' '_' '_' '_' '_']\n",
      " ['7' '_' '_' '_' '_' '_' '_' '_' '_' '_' '_']\n",
      " ['8' '_' '_' '_' '_' '_' '_' '_' '_' '_' '_']\n",
      " ['9' '_' '_' '_' '_' '_' '_' '_' '_' '_' '_']\n",
      " ['0' '_' '_' '_' '_' '_' '_' '_' '_' '_' '_']]\n"
     ]
    }
   ],
   "source": [
    "import numpy as np\n",
    "\n",
    "def create_board(size=(11, 11)):\n",
    "    # Initialize an 11x11 board with underscores\n",
    "    board = np.full(size, '_') \n",
    "    \n",
    "    # Add column labels (top edge: 1-10)\n",
    "    board[0, 1:] = [str(i) for i in range(1, 11)]\n",
    "    \n",
    "    # Add row labels (left edge: 1-10)\n",
    "    board[1:, 0] = [str(i) for i in range(1, 11)]\n",
    "    \n",
    "    # Clear the top-left corner (0,0) for alignment\n",
    "    board[0, 0] = ' '\n",
    "    board[10,0] = '0'\n",
    "    board[0,10] = '0'\n",
    "    \n",
    "    return board\n",
    "\n",
    "board = create_board()\n",
    "print(board)"
   ]
  },
  {
   "cell_type": "code",
   "execution_count": 11,
   "metadata": {},
   "outputs": [],
   "source": [
    "import random \n",
    "\n",
    "\n",
    "##def computer_boat_placement(variable):\n",
    " #   x = random.randint(1,10)\n",
    " #   y = random.randint(1,10)\n",
    "#\n",
    " #   if variable[x][y] == \"B\":\n",
    " #       computer_boat_placement(variable)\n",
    " #   else:\n",
    " #       variable[x][y]= \"B\"\n",
    " #   return variable\n",
    "\n",
    "\n",
    "\n",
    "def colocar_barco(barco, tablero):\n",
    "    for casilla in barco:\n",
    "        tablero[casilla] = \"O\"\n",
    "    return tablero\n",
    "\n",
    "def computer_boat_placement(variable):\n",
    "    x = random.randint(1,9)\n",
    "    y = random.randint(1,9)\n",
    "    orientacion = random.choice([\"Horizontal\", \"Vertical\"])\n",
    "    boat_location = [(x, y)]\n",
    "    if orientacion == \"Horizontal\":\n",
    "        boat_location.append((x, y + 1))\n",
    "    else:\n",
    "        boat_location.append((x + 1, y))\n",
    "    \n",
    "    for boat_tiles in boat_location:\n",
    "        if ([boat_tiles]) == \"B\":\n",
    "            computer_boat_placement(variable)\n",
    "    else:  #maybe this is wrong? do you need an else here??\n",
    "        for boat_tiles in boat_location:\n",
    "            variable[boat_tiles] = \"B\"\n",
    "\n",
    "\n",
    "def computer_sloop_placement(variable):\n",
    "    x = random.randint(1,8)\n",
    "    y = random.randint(1,8)\n",
    "    orientacion = random.choice([\"Horizontal\", \"Vertical\"])\n",
    "    boat_location = [(x, y)]\n",
    "    if orientacion == \"Horizontal\":\n",
    "        boat_location.append((x, y + 2))\n",
    "    else:\n",
    "        boat_location.append((x + 2, y))\n",
    "\n",
    "    for boat_tiles in boat_location:\n",
    "        if ([boat_tiles]) == \"B\":\n",
    "            computer_boat_placement(variable)\n",
    "    else:\n",
    "        for boat_tiles in boat_location:\n",
    "            variable[boat_tiles] = \"B\"\n",
    "\n",
    "\n",
    "def computer_frigate_placement(variable):\n",
    "    x = random.randint(1,7)\n",
    "    y = random.randint(1,7)\n",
    "    orientacion = random.choice([\"Horizontal\", \"Vertical\"])\n",
    "    boat_location = [(x, y)]\n",
    "    if orientacion == \"Horizontal\":\n",
    "        boat_location.append((x, y + 3))\n",
    "    else:\n",
    "        boat_location.append((x + 3, y))\n",
    "        \n",
    "    for boat_tiles in boat_location:\n",
    "        if ([boat_tiles]) == \"B\":\n",
    "            computer_boat_placement(variable)\n",
    "    else:\n",
    "        for boat_tiles in boat_location:\n",
    "            variable[boat_tiles] = \"B\"\n",
    "\n",
    "\n",
    "\n",
    "\n",
    "\n",
    "#\n",
    "#    if variable[x][y] == \"B\":\n",
    "#        computer_boat_placement(variable)\n",
    "#    else:\n",
    "#        variable[x][y]= \"B\"\n",
    "#    return variable\n",
    "#\n",
    "#orientacion = random.choice([\"Horizontal\", \"Vertical\"])\n",
    "#barco_aleatorio = [(fila, columna)]\n",
    "#\n",
    "#if orientacion == \"Horizontal\":\n",
    "#    barco_aleatorio.append((fila, columna + 1))\n",
    "#else:\n",
    "#    barco_aleatorio.append((fila + 1, columna))\n",
    "\n",
    "\n",
    "\n",
    "\n",
    "\n",
    "\n",
    "def computer_attack_placement(variable):\n",
    "    x = random.randint(1,10)\n",
    "    y = random.randint(1,10)\n",
    "\n",
    "    if variable [x][y] == \"O\" or variable [x][y] == \"X\":\n",
    "        computer_attack_placement(variable)\n",
    "    elif variable [x][y] == \"B\":\n",
    "         variable [x][y] = \"X\"\n",
    "    else:\n",
    "        variable [x][y] = \"O\"\n",
    "\n",
    "\n",
    "    #orientacion = random.choice([\"Horizontal\", \"Vertical\"])\n",
    "    #while len(barco_aleatorio) < eslora:\n",
    "    #    if orientacion == \"Horizontal\":\n",
    "    #        columna = columna + 1\n",
    "    #        barco_aleatorio.append((fila, columna))\n",
    "    #    else:\n",
    "    #        fila = fila + 1\n",
    "    #        barco_aleatorio.append((fila, columna))\n",
    "    #return barco_aleatorio"
   ]
  },
  {
   "cell_type": "code",
   "execution_count": 12,
   "metadata": {},
   "outputs": [
    {
     "name": "stdout",
     "output_type": "stream",
     "text": [
      "[[' ' '1' '2' '3' '4' '5' '6' '7' '8' '9' '0']\n",
      " ['1' '_' '_' '_' '_' '_' '_' '_' '_' '_' '_']\n",
      " ['2' '_' '_' '_' '_' '_' '_' '_' '_' '_' '_']\n",
      " ['3' '_' '_' '_' '_' '_' '_' '_' '_' '_' '_']\n",
      " ['4' '_' '_' '_' '_' '_' '_' '_' '_' '_' '_']\n",
      " ['5' '_' '_' '_' '_' '_' '_' '_' '_' '_' '_']\n",
      " ['6' '_' '_' '_' '_' '_' '_' '_' 'B' '_' 'B']\n",
      " ['7' '_' '_' '_' '_' '_' '_' '_' '_' '_' '_']\n",
      " ['8' '_' '_' '_' '_' '_' '_' '_' '_' '_' '_']\n",
      " ['9' '_' '_' '_' '_' '_' '_' '_' '_' '_' '_']\n",
      " ['0' '_' '_' '_' '_' '_' '_' '_' '_' '_' '_']]\n",
      "Battleships!\n",
      "[[' ' '1' '2' '3' '4' '5' '6' '7' '8' '9' '0']\n",
      " ['1' '_' '_' '_' '_' '_' '_' '_' '_' '_' '_']\n",
      " ['2' '_' '_' '_' '_' '_' '_' '_' '_' '_' '_']\n",
      " ['3' '_' '_' '_' '_' '_' '_' '_' '_' '_' '_']\n",
      " ['4' '_' '_' '_' '_' '_' '_' '_' '_' '_' '_']\n",
      " ['5' '_' '_' '_' '_' '_' '_' '_' '_' '_' '_']\n",
      " ['6' '_' '_' '_' '_' '_' '_' '_' '_' '_' '_']\n",
      " ['7' '_' '_' '_' '_' '_' '_' '_' '_' '_' '_']\n",
      " ['8' '_' '_' '_' '_' '_' '_' '_' '_' '_' '_']\n",
      " ['9' '_' '_' '_' '_' '_' '_' '_' '_' '_' '_']\n",
      " ['0' '_' '_' '_' '_' '_' '_' '_' '_' '_' '_']]\n"
     ]
    }
   ],
   "source": [
    "Board_1 = create_board()\n",
    "Board_2 = create_board()\n",
    "Board_3 = create_board()\n",
    "#computer_boat_placement(Board_1)\n",
    "#computer_frigate_placement(Board_1)\n",
    "computer_sloop_placement(Board_1)\n",
    "\n",
    "\n",
    "print(Board_1)\n",
    "print(\"Battleships!\")\n",
    "print(Board_2)\n"
   ]
  },
  {
   "cell_type": "code",
   "execution_count": null,
   "metadata": {},
   "outputs": [
    {
     "name": "stdout",
     "output_type": "stream",
     "text": [
      "False\n"
     ]
    },
    {
     "data": {
      "text/plain": [
       "<function print(*args, sep=' ', end='\\n', file=None, flush=False)>"
      ]
     },
     "execution_count": 16,
     "metadata": {},
     "output_type": "execute_result"
    }
   ],
   "source": [
    "def check_victory(user, computer):\n",
    "        return ('B' not in user) or ('B' not in computer)\n",
    "\n",
    "print(check_victory(Board_1, Board_2))\n",
    "print\n"
   ]
  },
  {
   "cell_type": "code",
   "execution_count": 14,
   "metadata": {},
   "outputs": [
    {
     "name": "stdout",
     "output_type": "stream",
     "text": [
      "[[' ' '1' '2' '3' '4' '5' '6' '7' '8' '9' '0']\n",
      " ['1' '_' '_' '_' '_' '_' '_' '_' '_' '_' '_']\n",
      " ['2' '_' 'B' '_' '_' '_' '_' '_' '_' '_' '_']\n",
      " ['3' '_' '_' '_' '_' '_' '_' '_' '_' '_' '_']\n",
      " ['4' '_' '_' '_' '_' '_' '_' '_' '_' '_' '_']\n",
      " ['5' '_' '_' '_' '_' '_' '_' '_' '_' '_' '_']\n",
      " ['6' '_' '_' '_' '_' '_' '_' '_' '_' '_' '_']\n",
      " ['7' '_' '_' '_' '_' '_' '_' '_' '_' '_' '_']\n",
      " ['8' '_' '_' '_' '_' '_' '_' '_' '_' '_' '_']\n",
      " ['9' '_' '_' '_' '_' '_' '_' '_' '_' '_' '_']\n",
      " ['0' '_' '_' '_' '_' '_' '_' '_' '_' '_' '_']]\n",
      "[[' ' '1' '2' '3' '4' '5' '6' '7' '8' '9' '0']\n",
      " ['1' '_' '_' '_' '_' '_' '_' '_' '_' '_' '_']\n",
      " ['2' '_' '_' '_' '_' '_' '_' '_' '_' '_' '_']\n",
      " ['3' '_' '_' '_' '_' '_' '_' '_' '_' '_' '_']\n",
      " ['4' '_' '_' '_' '_' '_' '_' '_' '_' '_' '_']\n",
      " ['5' '_' '_' '_' '_' '_' '_' '_' '_' '_' '_']\n",
      " ['6' '_' '_' '_' '_' '_' '_' 'B' '_' '_' '_']\n",
      " ['7' '_' '_' '_' '_' '_' '_' 'B' '_' '_' '_']\n",
      " ['8' '_' '_' '_' '_' '_' '_' '_' '_' '_' '_']\n",
      " ['9' '_' '_' '_' '_' '_' '_' '_' '_' '_' '_']\n",
      " ['0' '_' '_' '_' '_' '_' '_' '_' '_' '_' '_']]\n"
     ]
    }
   ],
   "source": [
    "Board_1 = create_board()\n",
    "place_pieces(Board_1)\n",
    "Board_2 = create_board()\n",
    "computer_boat_placement(Board_2)\n",
    "\n",
    "print(Board_1)\n",
    "print(Board_2)"
   ]
  },
  {
   "cell_type": "code",
   "execution_count": 15,
   "metadata": {},
   "outputs": [
    {
     "ename": "SyntaxError",
     "evalue": "invalid syntax (657572916.py, line 16)",
     "output_type": "error",
     "traceback": [
      "  \u001b[36mCell\u001b[39m\u001b[36m \u001b[39m\u001b[32mIn[15]\u001b[39m\u001b[32m, line 16\u001b[39m\n\u001b[31m    \u001b[39m\u001b[31mself.Board_3 = #Variance of computer_boat_placement(Board_3)\u001b[39m\n                   ^\n\u001b[31mSyntaxError\u001b[39m\u001b[31m:\u001b[39m invalid syntax\n"
     ]
    }
   ],
   "source": [
    "BOATS_TO_PLACE = 3\n",
    "SLOOPS_TO_PLACE = 2\n",
    "FRIGATES_TO_PLACE = 1\n",
    "\n",
    "class Gamehandler():\n",
    "    global BOATS_TO_PLACE\n",
    "\n",
    "    def __init__(self):\n",
    "        self.Board_1 = create_board()\n",
    "        self.Board_2 = create_board()\n",
    "        self.Board_3 = create_board()\n",
    "        self.boats_placed = 0\n",
    "        while self.boats_placed < BOATS_TO_PLACE:\n",
    "            self.Board_3 = computer_boat_placement(Board_3)\n",
    "            if self.boats_placed < SLOOPS_TO_PLACE:\n",
    "                self.Board_3 = #Variance of computer_boat_placement(Board_3)\n",
    "            if self.boats_placed < FRIGATES_TO_PLACE:\n",
    "                self.Board_3 = #Variance of computer_boat_placement(Board_3)\n",
    "            self.boats_placed += 1\n",
    "        print(Board_3)\n",
    "        \n",
    "O = Gamehandler()\n"
   ]
  },
  {
   "cell_type": "markdown",
   "metadata": {},
   "source": [
    "# List of Tasks\n",
    "\n",
    "## -Rulesets-\n",
    "\n",
    "### 1. The board and its pieces\n",
    "\n",
    "-There should be 2 boards where boats are placed. Two boards where missiles are fired from.\n",
    "\n",
    "-These boards will have their players place their ships at the start of the game.\n",
    "\n",
    "-The players should have the same number of pieces of three types.\n",
    "\n",
    "-The players will then be able to choose which tiles to fire their missiles at.\n",
    "\n",
    "BONUS: The players should be able to rotate their pieces on top of choosing their co-ordinates\n",
    "\n",
    "### 2. Mechanics\n",
    "\n",
    "-If you hit another players boat because it is on the tile which you fire your missile, you get one point and another turn\n",
    "\n",
    "-If you hit another boat on your bonus turn, you should get two points instead of one.\n",
    "\n",
    "-If you miss, the other player gets a turn\n",
    "\n",
    "## -Data storage-\n",
    "\n",
    "### 3. Players and their scores\n",
    "\n",
    "-Players should be able to input their names and then have their points stored in relation to their name.\n",
    "\n",
    "### 4. Board states\n",
    "\n",
    "-The game should have each board saved and show only one board with pieces, and another with suspected pieces locations\n",
    "\n",
    "-A hit pieces should be shown with an X, a miss with an O, and the types of boats should be a S, F, G, with an enemy boat being an E.\n",
    "\n",
    "\n"
   ]
  },
  {
   "cell_type": "markdown",
   "metadata": {},
   "source": []
  }
 ],
 "metadata": {
  "kernelspec": {
   "display_name": "Python 3",
   "language": "python",
   "name": "python3"
  },
  "language_info": {
   "codemirror_mode": {
    "name": "ipython",
    "version": 3
   },
   "file_extension": ".py",
   "mimetype": "text/x-python",
   "name": "python",
   "nbconvert_exporter": "python",
   "pygments_lexer": "ipython3",
   "version": "3.11.7"
  },
  "orig_nbformat": 4
 },
 "nbformat": 4,
 "nbformat_minor": 2
}
